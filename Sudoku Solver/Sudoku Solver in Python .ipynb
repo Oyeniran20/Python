{
 "cells": [
  {
   "cell_type": "markdown",
   "id": "723a64f0",
   "metadata": {},
   "source": [
    "# Project - Building Sudoku Solver in Python"
   ]
  },
  {
   "cell_type": "markdown",
   "id": "f9ef464a",
   "metadata": {},
   "source": [
    "> ### Introduction:\n",
    "\n",
    "The objective of the Sudoku puzzle is to fill in the grid so that each row, each column, and each 3x3 box contains all the digits from 1 to 9, without repetition. The Sudoku grid is commonly represented as a 2D list or array in a programming language like Python. \n",
    "\n",
    "Each element of the list corresponds to a cell in the grid, and its value represents the digit in that cell. The value 0 is frequently used to indicate an empty cell. The Sudoku grid is the playing board for the Sudoku puzzle. It is a 9x9 grid divided into nine 3x3 subgrids, or \"boxes.\" Each box is further divided into nine cells, for a total of 81 cells on the grid."
   ]
  },
  {
   "cell_type": "markdown",
   "id": "e8f92bbd",
   "metadata": {},
   "source": [
    "In this project, we'll write a Python program which can solve a Sudoku, a popular Japanese puzzle you may have seen in newspapers. Here's what a Sudoku looks like:\n",
    "\n",
    "<img src=\"https://i.imgur.com/vfArdnW.jpg\" width=\"300\">\n",
    "\n",
    "It's a 9x9 grid containing several blank spaces and some numbers (between 1 and 9). There are also nine 3x3 subgrids (indicated by the dark lines).\n",
    "\n",
    "\n",
    "> **Solving a Sudoku**: To _solve_ a Sudoku, you must fill all the blank spaces in the above 9x9 grid with digits so that each column, each row and each of the nine 3x3 subgrids (also called \"boxes\") contain all of the digits from 1 to 9, without repetition. \n",
    "\n",
    "\n",
    "\n",
    "Here are the steps we'll follow to create a Sudoku solver in Python:\n",
    "\n",
    "1. Represent a Sudoku as a list of lists in Python\n",
    "2. Create helper functions to extract rows, columns and boxes from the Sudoku\n",
    "3. Create functions to check if a Sudoku is valid or complete\n",
    "4. Use a recursive strategy to solve a Sudoku by trial & error\n",
    "5. Read 100 Sudokus from a file and solve them all together"
   ]
  },
  {
   "cell_type": "markdown",
   "id": "78190be1",
   "metadata": {},
   "source": [
    "> ### Puzzle Representation\n",
    "\n",
    "Finding the representation for the problem's inputs and outputs is the first step in solving any real-world problem; in this case, the input is an unsolved Sudoku puzzle, and the output is the solved version of the input puzzles. \n",
    "\n",
    "To represent a Sudoku puzzle, we will use a list of lists of numbers."
   ]
  },
  {
   "cell_type": "code",
   "execution_count": 2,
   "id": "013adfad",
   "metadata": {},
   "outputs": [],
   "source": [
    "puzzle1 = [[5, 3, 0, 0, 7, 0, 0, 0, 0], \n",
    "           [6, 0, 0, 1, 9, 5, 0, 0, 0], \n",
    "           [0, 9, 8, 0, 0, 0, 0, 6, 0], \n",
    "           [8, 0, 0, 0, 6, 0, 0, 0, 3],\n",
    "           [4, 0, 0, 8, 0, 3, 0, 0, 1],\n",
    "           [7, 0, 0, 0, 2, 0, 0, 0, 6],\n",
    "           [0, 6, 0, 0, 0, 0, 2, 8, 0],\n",
    "           [0, 0, 0, 4, 1, 9, 0, 0, 5],\n",
    "           [0, 0, 0, 0, 8, 0, 0, 7, 9]]"
   ]
  },
  {
   "cell_type": "code",
   "execution_count": 3,
   "id": "613d481f",
   "metadata": {},
   "outputs": [
    {
     "data": {
      "text/plain": [
       "[[5, 3, 0, 0, 7, 0, 0, 0, 0],\n",
       " [6, 0, 0, 1, 9, 5, 0, 0, 0],\n",
       " [0, 9, 8, 0, 0, 0, 0, 6, 0],\n",
       " [8, 0, 0, 0, 6, 0, 0, 0, 3],\n",
       " [4, 0, 0, 8, 0, 3, 0, 0, 1],\n",
       " [7, 0, 0, 0, 2, 0, 0, 0, 6],\n",
       " [0, 6, 0, 0, 0, 0, 2, 8, 0],\n",
       " [0, 0, 0, 4, 1, 9, 0, 0, 5],\n",
       " [0, 0, 0, 0, 8, 0, 0, 7, 9]]"
      ]
     },
     "execution_count": 3,
     "metadata": {},
     "output_type": "execute_result"
    }
   ],
   "source": [
    "puzzle1"
   ]
  },
  {
   "cell_type": "markdown",
   "id": "45bfa0b2",
   "metadata": {},
   "source": [
    "\n",
    "Note the following details about the above representation:\n",
    "\n",
    "- The outer list contains 9 elements, one for each row of the puzzle\n",
    "- Each element in the outer list is itself a list, containing 9 elements, one for each column\n",
    "- Blank spaces in the Sudoku are represented using `0` and filled spaces are represented using digits.\n",
    "\n",
    "We can check the number of rows and columns using the `len` function."
   ]
  },
  {
   "cell_type": "code",
   "execution_count": 4,
   "id": "01a57a34",
   "metadata": {},
   "outputs": [
    {
     "data": {
      "text/plain": [
       "(9, 9)"
      ]
     },
     "execution_count": 4,
     "metadata": {},
     "output_type": "execute_result"
    }
   ],
   "source": [
    "# Number of rows & columns\n",
    "len(puzzle1), len(puzzle1[0])"
   ]
  },
  {
   "cell_type": "markdown",
   "id": "0067f2cf",
   "metadata": {},
   "source": []
  },
  {
   "cell_type": "markdown",
   "id": "14d77521",
   "metadata": {},
   "source": [
    "> ###  Extracting Rows, Columns and Boxes\n",
    "\n",
    "Before we can solve a Sudoku, we'll need a way to extract specific rows, columns and boxes from the Sudoku. We'll create a helper function for each of these. \n",
    "\n",
    "\n",
    ">\n",
    "<div style=\"display: flex; justify-content: space-around; text-align: center;\">\n",
    "  <div style=\"width: 30%;\">\n",
    "    <p style=\"font-weight: bold;\">Row</p>\n",
    "    <img src=\"https://i.imgur.com/FR98oSb.jpg\" width=\"75%\">\n",
    "  </div>\n",
    "  <div style=\"width: 30%;\">\n",
    "    <p style=\"font-weight: bold;\">Column</p>\n",
    "    <img src=\"https://i.imgur.com/FezcTVP.png\" width=\"75%\">\n",
    "  </div>\n",
    "  <div style=\"width: 30%;\">\n",
    "    <p style=\"font-weight: bold;\">Boxes</p>\n",
    "    <img src=\"https://i.imgur.com/n8wkXEo.jpg\" width=\"75%\">\n",
    "  </div>\n",
    "</div>\n"
   ]
  },
  {
   "cell_type": "code",
   "execution_count": 30,
   "id": "68e5b7ba",
   "metadata": {},
   "outputs": [],
   "source": [
    "# get row number\n",
    "\n",
    "def get_row(sudoku, k):\n",
    "    \"\"\"\n",
    "    Extracts row no. k from the Sudoku puzzle.\n",
    "\n",
    "    Returns:\n",
    "    - List of numbers representing the extracted row\n",
    "    \"\"\"\n",
    "    if 0 <= k < 9:\n",
    "        return sudoku[k]\n",
    "    else:\n",
    "        raise ValueError(\"Invalid row number. Row number should be between 0 and 8.\")\n"
   ]
  },
  {
   "cell_type": "code",
   "execution_count": 32,
   "id": "f2c6829e",
   "metadata": {},
   "outputs": [
    {
     "name": "stdout",
     "output_type": "stream",
     "text": [
      "Row no. 2 extracted from the Sudoku puzzle: [0, 9, 8, 0, 0, 0, 0, 6, 0]\n"
     ]
    }
   ],
   "source": [
    "\n",
    "row_number = 2\n",
    "extracted_row = get_row(puzzle1, row_number)\n",
    "\n",
    "# Display the result\n",
    "print(f\"Row no. {row_number} extracted from the Sudoku puzzle: {extracted_row}\")\n"
   ]
  },
  {
   "cell_type": "code",
   "execution_count": 33,
   "id": "6a1f7dd6",
   "metadata": {},
   "outputs": [],
   "source": [
    "# get column number\n",
    "\n",
    "def get_col(sudoku, k):\n",
    "    \"\"\"\n",
    "    Extracts column no. k from the Sudoku puzzle.\n",
    "\n",
    "    Parameters:\n",
    "    - sudoku: 2D list representing the Sudoku puzzle\n",
    "    - k: Column number to be extracted (counting from 0)\n",
    "\n",
    "    Returns:\n",
    "    - List of numbers representing the extracted column\n",
    "    \"\"\"\n",
    "    if 0 <= k < 9:\n",
    "        return [row[k] for row in sudoku]\n",
    "    else:\n",
    "        raise ValueError(\"Invalid column number. Column number should be between 0 and 8.\")\n",
    "\n",
    "\n"
   ]
  },
  {
   "cell_type": "code",
   "execution_count": 34,
   "id": "5eb45ef6",
   "metadata": {},
   "outputs": [
    {
     "name": "stdout",
     "output_type": "stream",
     "text": [
      "Column no. 4 extracted from the Sudoku puzzle: [7, 9, 0, 6, 0, 2, 0, 1, 8]\n"
     ]
    }
   ],
   "source": [
    "\n",
    "column_number = 4\n",
    "extracted_column = get_col(puzzle1, column_number)\n",
    "\n",
    "# Display the result\n",
    "print(f\"Column no. {column_number} extracted from the Sudoku puzzle: {extracted_column}\")\n"
   ]
  },
  {
   "cell_type": "code",
   "execution_count": 35,
   "id": "07739782",
   "metadata": {},
   "outputs": [],
   "source": [
    "# get box number\n",
    "\n",
    "def get_box(sudoku, k):\n",
    "    \"\"\"\n",
    "    Extracts box no. k from the Sudoku puzzle.\n",
    "\n",
    "    Parameters:\n",
    "    - sudoku: 2D list representing the Sudoku puzzle\n",
    "    - k: Box number to be extracted (counting from 0)\n",
    "\n",
    "    Returns:\n",
    "    - List of numbers representing the extracted box\n",
    "    \"\"\"\n",
    "    if 0 <= k < 9:\n",
    "        # Calculate the starting row and column indices of the box\n",
    "        start_row = (k // 3) * 3\n",
    "        start_col = (k % 3) * 3\n",
    "\n",
    "        # Extract the box using list comprehension and list concatenation\n",
    "        box = [sudoku[i][j] for i in range(start_row, start_row + 3) for j in range(start_col, start_col + 3)]\n",
    "        return box\n",
    "    else:\n",
    "        raise ValueError(\"Invalid box number. Box number should be between 0 and 8.\")\n",
    "\n"
   ]
  },
  {
   "cell_type": "code",
   "execution_count": 36,
   "id": "f228fe38",
   "metadata": {},
   "outputs": [
    {
     "name": "stdout",
     "output_type": "stream",
     "text": [
      "Box no. 0 extracted from the Sudoku puzzle: [5, 3, 0, 6, 0, 0, 0, 9, 8]\n"
     ]
    }
   ],
   "source": [
    "\n",
    "box_number = 0\n",
    "extracted_box = get_box(puzzle1, box_number)\n",
    "\n",
    "# Display the result\n",
    "print(f\"Box no. {box_number} extracted from the Sudoku puzzle: {extracted_box}\")\n"
   ]
  },
  {
   "cell_type": "markdown",
   "id": "cce761d0",
   "metadata": {},
   "source": [
    "> ### Sudoku Input Validations \n",
    "A Sudoku puzzle is valid if none of the rows, columns, or boxes contains repeating digits.\n",
    "\n",
    "We will write a function to check if a list of 9 numbers (containing digits from 1 to 9 and 0s to indicate blank spaces) is a valid section (row, column, or box) for a Sudoku. Only 0 can occur more than once, the numbers 1 to 9 can occur at most once. Your function should return {True} if the section is valid and {False} otherwise.\n",
    "\n",
    "<img src=\"https://i.imgur.com/QfvkcsM.jpg\" width=\"560\">\n",
    "\n"
   ]
  },
  {
   "cell_type": "code",
   "execution_count": 38,
   "id": "e0da861e",
   "metadata": {},
   "outputs": [],
   "source": [
    "def is_section_valid(section):\n",
    "    # Check if each number from 1 to 9 occurs at most once\n",
    "    seen = set()\n",
    "    for num in section:\n",
    "        if num != 0:\n",
    "            if num in seen:\n",
    "                return False\n",
    "            seen.add(num)\n",
    "\n",
    "    return True\n",
    "\n",
    "def is_sudoku_valid(sudoku):\n",
    "    rows_valid = all([is_section_valid(get_row(sudoku, i)) for i in range(0, 9)])\n",
    "    cols_valid = all([is_section_valid(get_col(sudoku, i)) for i in range(0, 9)])\n",
    "    boxes_valid = all([is_section_valid(get_box(sudoku, i)) for i in range(0, 9)])\n",
    "    return rows_valid and cols_valid and boxes_valid\n"
   ]
  },
  {
   "cell_type": "code",
   "execution_count": 39,
   "id": "8ee0a680",
   "metadata": {},
   "outputs": [
    {
     "name": "stdout",
     "output_type": "stream",
     "text": [
      "The Sudoku puzzle is valid.\n"
     ]
    }
   ],
   "source": [
    "\n",
    "if is_sudoku_valid(puzzle1):\n",
    "    print(\"The Sudoku puzzle is valid.\")\n",
    "else:\n",
    "    print(\"The Sudoku puzzle is not valid.\")\n"
   ]
  },
  {
   "cell_type": "markdown",
   "id": "4826c3e8",
   "metadata": {},
   "source": [
    "> ### Find Empty Position\n",
    "\n",
    "To start filling the Sudoku, we need to find an empty position to fill.\n",
    "\n",
    "we'll write a function which finds the row & column index of the first empty position (indicated by 0) within a Sudoku. If the row no. i and column no. j column is the first empty position, the function should return the tuple `i, j`. If there are no empty positions, return `None`."
   ]
  },
  {
   "cell_type": "code",
   "execution_count": 40,
   "id": "9a726ced",
   "metadata": {},
   "outputs": [],
   "source": [
    "def first_empty_position(sudoku):\n",
    "    \"\"\"\n",
    "    Finds the row and column index of the first empty position in the Sudoku puzzle.\n",
    "\n",
    "    Returns:\n",
    "    - Tuple (i, j) representing the row and column index of the first empty position\n",
    "      If there are no empty positions, returns (None, None).\n",
    "    \"\"\"\n",
    "    for i in range(9):\n",
    "        for j in range(9):\n",
    "            if sudoku[i][j] == 0:\n",
    "                return i, j\n",
    "    return None\n"
   ]
  },
  {
   "cell_type": "code",
   "execution_count": 41,
   "id": "4fb90c43",
   "metadata": {},
   "outputs": [
    {
     "data": {
      "text/plain": [
       "(0, 2)"
      ]
     },
     "execution_count": 41,
     "metadata": {},
     "output_type": "execute_result"
    }
   ],
   "source": [
    "first_empty_position(puzzle1)"
   ]
  },
  {
   "cell_type": "code",
   "execution_count": null,
   "id": "a1cf9316",
   "metadata": {},
   "outputs": [],
   "source": []
  },
  {
   "cell_type": "markdown",
   "id": "fd0c0def",
   "metadata": {},
   "source": [
    "> ### Complete/Solved Sudoku\n",
    "\n",
    "Next, we need a way to check if a Sudoku is completely solved. This can be done by checking that each row, each column and each box in the Sudoku contains all the numbers from 1 to 9 exactly once.\n",
    "\n",
    "<img src=\"https://i.imgur.com/uG2uDk7.png\" width=\"560\">\n",
    "\n",
    "We'll write a function to check if a list of 9 numbers (containing digits from 1 to 9) represents a complete section (row, column or box) for a Sudoku. The list should contain all the numbers from 1 to 9 exactly once. Your function should return `True` if the section is complete and `False` otherwise.\n",
    ">"
   ]
  },
  {
   "cell_type": "code",
   "execution_count": 42,
   "id": "f2da9626",
   "metadata": {},
   "outputs": [],
   "source": [
    "def is_section_complete(section):\n",
    "    \n",
    "    # Check if all numbers from 1 to 9 are present exactly once\n",
    "    for num in range(1, 10):\n",
    "        if section.count(num) != 1:\n",
    "            return False\n",
    "\n",
    "    return True\n"
   ]
  },
  {
   "cell_type": "markdown",
   "id": "e90cf2d8",
   "metadata": {},
   "source": [
    "We can now use the `is_section_complete` function to check if each row, column and box is complete. Rows, columns and boxes are retrieved using the `get_row`, `get_column` and `get_box` functions defined earlier.\n",
    "\n",
    "Let's create a function `is_sudoku_complete` to bring it all together and check if an entire Sudoku is complete/solved."
   ]
  },
  {
   "cell_type": "code",
   "execution_count": 43,
   "id": "26328499",
   "metadata": {},
   "outputs": [],
   "source": [
    "def is_sudoku_complete(sudoku):\n",
    "    rows_complete = all([is_section_complete(get_row(sudoku, i)) for i in range(0, 9)])\n",
    "    cols_complete = all([is_section_complete(get_col(sudoku, i)) for i in range(0, 9)])\n",
    "    boxes_complete = all([is_section_complete(get_box(sudoku, i)) for i in range(0, 9)])\n",
    "    return rows_complete and cols_complete and boxes_complete"
   ]
  },
  {
   "cell_type": "code",
   "execution_count": 44,
   "id": "47061b87",
   "metadata": {},
   "outputs": [
    {
     "data": {
      "text/plain": [
       "False"
      ]
     },
     "execution_count": 44,
     "metadata": {},
     "output_type": "execute_result"
    }
   ],
   "source": [
    "is_sudoku_complete(puzzle1)"
   ]
  },
  {
   "cell_type": "code",
   "execution_count": null,
   "id": "3aa2a883",
   "metadata": {},
   "outputs": [],
   "source": []
  },
  {
   "cell_type": "markdown",
   "id": "49bd7b21",
   "metadata": {},
   "source": [
    "> ### Recursive Solution\n",
    "\n",
    "Now we have all the components to start building our Sudoku solver. Our solver will follow the simple approach of trying all possible solutions for filling the blank spaces one by one, while making sure that the Sudoku remains valid. \n",
    "\n",
    "We'll use a technique called recursion, which is best understood by working backwards. Consider the following scenarios:\n",
    "\n",
    "* **No empty spaces**: If a Sudoku has no empty spaces, then we can simply check if the Sudoku is already complete/solved using `is_sudoku_complete`. The Suduko is either already solved or invalid.\n",
    "\n",
    "* **1 empty space**: If a Sudoku has just one empty space, we can try to insert each digit from 1 to 9 into the empty space, and verify which digit, if any, leads to a completed solved Sudoku.\n",
    "\n",
    "* **2 empty spaces**: If a Sudoku has two empty spaces, we can try to insert each digit from 1 to 9 one-by-one into the first empty space, while making sure the Sudoku remains valid. For each valid attempt at inserting a number, the puzzle reduces to the previous problem of solving a Sudoku with just two empty spaces.\n",
    "\n",
    "* **3 empty spaces**: If a Sudoku has three empty spaces, we can try to insert each digit from 1 to 9 one-by-one into the first empty space, while making sure the Sudoku remains valid. For each valid attempt at inserting a number, the puzzle reduces to the previous problem of solving a Sudoku with two empty spaces.\n",
    "\n",
    "* and so on....\n",
    "\n",
    "* **n empty spaces**: If a Sudokuk has `n` empty spaces, we can try to insert each digit from 1 to 9 one-by-one into the first empty space, while making sure the Sudoku remains valid. For each valid attempt at inserting a number, the puzzle reduces to the previous problem of solving a Sudoku with `n-1` empty spaces.\n",
    "\n",
    "Here's a quick tutorial on recursion: https://youtu.be/wMNrSM5RFMc\n",
    "\n",
    "Let's define a helper function `repeat` to implement the above strategy for any number of empty spaces. The function repeat will attempt to fill the first empty space within a Sudoku and invoke itself to fill the remaining spaces *recursively* i.e. by invoking itself with a different input. The function will return `True` if it was able to fill all the spaces successfully, otherwise it will return `False`."
   ]
  },
  {
   "cell_type": "code",
   "execution_count": 45,
   "id": "f81c5c15",
   "metadata": {},
   "outputs": [],
   "source": [
    "def repeat(sudoku):\n",
    "    # Check if Sudoku is already complete\n",
    "    if is_sudoku_complete(sudoku):\n",
    "        return True\n",
    "    \n",
    "    # Find the first empty position\n",
    "    empty_position = first_empty_position(sudoku)\n",
    "    \n",
    "    # If there are no empty positions, the Sudoku is already complete\n",
    "    if empty_position is None:\n",
    "        return True\n",
    "    \n",
    "    i, j = empty_position\n",
    "    \n",
    "    # Try to fill it with numbers 1 to 9\n",
    "    for digit in range(1, 10):\n",
    "        # Insert the digit into the right place\n",
    "        sudoku[i][j] = digit\n",
    "        \n",
    "        # Check if the new puzzle is valid\n",
    "        if is_sudoku_valid(sudoku):\n",
    "            # Try to fill the remaining spaces recursively using `repeat`\n",
    "            # Note that this will directly fill values into the sudoku\n",
    "            result = repeat(sudoku)\n",
    "            \n",
    "            # If the recursive result is true, we have found the answer and filled the sudoku\n",
    "            if result is True:\n",
    "                return True\n",
    "        \n",
    "        # Remove the digit, it doesn't lead to a solution\n",
    "        sudoku[i][j] = 0\n",
    "    \n",
    "    # There are no valid numbers to fill the empty slot(s)\n",
    "    return False"
   ]
  },
  {
   "cell_type": "markdown",
   "id": "8607d12f",
   "metadata": {},
   "source": [
    "Finally, we can create a `solve_sudoku` function which uses `repeat` to solve a Sudoku and returns the solved version (or `None` if the Sudoku is unsolvable)."
   ]
  },
  {
   "cell_type": "code",
   "execution_count": 46,
   "id": "7ef1d7b5",
   "metadata": {},
   "outputs": [],
   "source": [
    "import copy\n",
    "\n",
    "def solve_sudoku(sudoku):\n",
    "    # Create a deep copy of the puzzle (list of lists),\n",
    "    # to avoid modifying the original\n",
    "    copied_sudoku = copy.deepcopy(sudoku)\n",
    "    \n",
    "    # Try to complete the Sudoku using repeat\n",
    "    result = repeat(copied_sudoku)\n",
    "    \n",
    "    # Return the solved version if successful\n",
    "    if result is True:\n",
    "        return copied_sudoku\n",
    "    \n",
    "    # Return None if unsuccessful\n",
    "    return None"
   ]
  },
  {
   "cell_type": "code",
   "execution_count": 48,
   "id": "7d456543",
   "metadata": {},
   "outputs": [
    {
     "name": "stdout",
     "output_type": "stream",
     "text": [
      "CPU times: total: 2.53 s\n",
      "Wall time: 2.73 s\n"
     ]
    },
    {
     "data": {
      "text/plain": [
       "[[5, 3, 4, 6, 7, 8, 9, 1, 2],\n",
       " [6, 7, 2, 1, 9, 5, 3, 4, 8],\n",
       " [1, 9, 8, 3, 4, 2, 5, 6, 7],\n",
       " [8, 5, 9, 7, 6, 1, 4, 2, 3],\n",
       " [4, 2, 6, 8, 5, 3, 7, 9, 1],\n",
       " [7, 1, 3, 9, 2, 4, 8, 5, 6],\n",
       " [9, 6, 1, 5, 3, 7, 2, 8, 4],\n",
       " [2, 8, 7, 4, 1, 9, 6, 3, 5],\n",
       " [3, 4, 5, 2, 8, 6, 1, 7, 9]]"
      ]
     },
     "execution_count": 48,
     "metadata": {},
     "output_type": "execute_result"
    }
   ],
   "source": [
    "%%time\n",
    "puzzle1_solved = solve_sudoku(puzzle1)\n",
    "puzzle1_solved"
   ]
  },
  {
   "cell_type": "markdown",
   "id": "2f2a4814",
   "metadata": {},
   "source": [
    "# Project Complete"
   ]
  },
  {
   "cell_type": "code",
   "execution_count": null,
   "id": "7172fb99",
   "metadata": {},
   "outputs": [],
   "source": []
  },
  {
   "cell_type": "code",
   "execution_count": null,
   "id": "63ef5e57",
   "metadata": {},
   "outputs": [],
   "source": []
  },
  {
   "cell_type": "markdown",
   "id": "243b74a9",
   "metadata": {},
   "source": [
    "> ##  Solving hundreds of Sudokus \n",
    "\n",
    "Our `solve_sudoku` function is generic enough that it can solve any Sudoku. In this optional extension, we'll download a file containing 100 Sudoku puzzles, process the file to create Sudokus is our list-of-lists representation, solve all the puzzles and finally write the results back to a file.\n",
    "\n",
    "First, let's download the file:"
   ]
  },
  {
   "cell_type": "code",
   "execution_count": 50,
   "id": "4709b013",
   "metadata": {},
   "outputs": [],
   "source": [
    "sudokus_url = 'https://gist.githubusercontent.com/aakashns/033af5f9f6f2ec3a2f322105dad38c01/raw/7af74a86ee7fd9ec9bbb9d3b5a2bf08e9e080532/hundred_sudokus.csv'"
   ]
  },
  {
   "cell_type": "code",
   "execution_count": 51,
   "id": "e620efe8",
   "metadata": {},
   "outputs": [],
   "source": [
    "from urllib.request import urlretrieve"
   ]
  },
  {
   "cell_type": "code",
   "execution_count": 52,
   "id": "49aa2aab",
   "metadata": {},
   "outputs": [
    {
     "data": {
      "text/plain": [
       "('sudokus.csv', <http.client.HTTPMessage at 0x123505adc10>)"
      ]
     },
     "execution_count": 52,
     "metadata": {},
     "output_type": "execute_result"
    }
   ],
   "source": [
    "urlretrieve(sudokus_url, 'sudokus.csv')"
   ]
  },
  {
   "cell_type": "markdown",
   "id": "2a0aea8d",
   "metadata": {},
   "source": [
    "Next, let's read the contents of the file into a list of lines."
   ]
  },
  {
   "cell_type": "code",
   "execution_count": 53,
   "id": "8bc1ab93",
   "metadata": {},
   "outputs": [],
   "source": [
    "filename = 'sudokus.csv'\n",
    "\n",
    "with open(filename, 'r') as f:\n",
    "    lines = [l.strip() for l in f.readlines()]"
   ]
  },
  {
   "cell_type": "code",
   "execution_count": 54,
   "id": "011e5845",
   "metadata": {},
   "outputs": [
    {
     "data": {
      "text/plain": [
       "100"
      ]
     },
     "execution_count": 54,
     "metadata": {},
     "output_type": "execute_result"
    }
   ],
   "source": [
    "len(lines)"
   ]
  },
  {
   "cell_type": "code",
   "execution_count": 55,
   "id": "0a7b1b33",
   "metadata": {},
   "outputs": [
    {
     "data": {
      "text/plain": [
       "['004300209005009001070060043006002087190007400050083000600000105003508690042910300',\n",
       " '040100050107003960520008000000000017000906800803050620090060543600080700250097100',\n",
       " '600120384008459072000006005000264030070080006940003000310000050089700000502000190',\n",
       " '497200000100400005000016098620300040300900000001072600002005870000600004530097061',\n",
       " '005910308009403060027500100030000201000820007006007004000080000640150700890000420']"
      ]
     },
     "execution_count": 55,
     "metadata": {},
     "output_type": "execute_result"
    }
   ],
   "source": [
    "lines[:5]"
   ]
  },
  {
   "cell_type": "markdown",
   "id": "22b3244f",
   "metadata": {},
   "source": [
    "Each line of the file represents a Sudoku. Let's create a helper function to convert a line from the file into a list of lists, the representation we have been using so far."
   ]
  },
  {
   "cell_type": "code",
   "execution_count": 56,
   "id": "6280ce09",
   "metadata": {},
   "outputs": [],
   "source": [
    "def parse_sudoku(sudoku_str):\n",
    "    \"\"\"\n",
    "    Parse a Sudoku puzzle string into a list of lists.\n",
    "\n",
    "    Args:\n",
    "    - sudoku_str (str): String representation of the Sudoku puzzle. Use '0' for empty cells.\n",
    "\n",
    "    Returns:\n",
    "    - list of lists: 2D list representing the Sudoku grid.\n",
    "    \"\"\"\n",
    "    # Check if the input string is of valid length for a Sudoku puzzle\n",
    "    if len(sudoku_str) != 81:\n",
    "        raise ValueError(\"Invalid Sudoku string length. Expected length: 81.\")\n",
    "\n",
    "    # Initialize an empty 2D list to store the Sudoku grid\n",
    "    sudoku_grid = []\n",
    "\n",
    "    # Iterate over each row in the Sudoku string\n",
    "    for i in range(0, 81, 9):\n",
    "        # Extract a row from the Sudoku string\n",
    "        row_str = sudoku_str[i:i+9]\n",
    "\n",
    "        # Convert the row string to a list of integers\n",
    "        row = [int(cell) for cell in row_str]\n",
    "\n",
    "        # Append the row to the Sudoku grid\n",
    "        sudoku_grid.append(row)\n",
    "\n",
    "    return sudoku_grid"
   ]
  },
  {
   "cell_type": "markdown",
   "id": "c3216378",
   "metadata": {},
   "source": [
    "We can now use list comprehension to convert into a list of lists."
   ]
  },
  {
   "cell_type": "code",
   "execution_count": 57,
   "id": "5f7c9dda",
   "metadata": {},
   "outputs": [],
   "source": [
    "sudokus = [parse_sudoku(line) for line in lines]    "
   ]
  },
  {
   "cell_type": "code",
   "execution_count": 58,
   "id": "bfdf2f75",
   "metadata": {
    "scrolled": true
   },
   "outputs": [
    {
     "data": {
      "text/plain": [
       "[[[0, 0, 4, 3, 0, 0, 2, 0, 9],\n",
       "  [0, 0, 5, 0, 0, 9, 0, 0, 1],\n",
       "  [0, 7, 0, 0, 6, 0, 0, 4, 3],\n",
       "  [0, 0, 6, 0, 0, 2, 0, 8, 7],\n",
       "  [1, 9, 0, 0, 0, 7, 4, 0, 0],\n",
       "  [0, 5, 0, 0, 8, 3, 0, 0, 0],\n",
       "  [6, 0, 0, 0, 0, 0, 1, 0, 5],\n",
       "  [0, 0, 3, 5, 0, 8, 6, 9, 0],\n",
       "  [0, 4, 2, 9, 1, 0, 3, 0, 0]],\n",
       " [[0, 4, 0, 1, 0, 0, 0, 5, 0],\n",
       "  [1, 0, 7, 0, 0, 3, 9, 6, 0],\n",
       "  [5, 2, 0, 0, 0, 8, 0, 0, 0],\n",
       "  [0, 0, 0, 0, 0, 0, 0, 1, 7],\n",
       "  [0, 0, 0, 9, 0, 6, 8, 0, 0],\n",
       "  [8, 0, 3, 0, 5, 0, 6, 2, 0],\n",
       "  [0, 9, 0, 0, 6, 0, 5, 4, 3],\n",
       "  [6, 0, 0, 0, 8, 0, 7, 0, 0],\n",
       "  [2, 5, 0, 0, 9, 7, 1, 0, 0]],\n",
       " [[6, 0, 0, 1, 2, 0, 3, 8, 4],\n",
       "  [0, 0, 8, 4, 5, 9, 0, 7, 2],\n",
       "  [0, 0, 0, 0, 0, 6, 0, 0, 5],\n",
       "  [0, 0, 0, 2, 6, 4, 0, 3, 0],\n",
       "  [0, 7, 0, 0, 8, 0, 0, 0, 6],\n",
       "  [9, 4, 0, 0, 0, 3, 0, 0, 0],\n",
       "  [3, 1, 0, 0, 0, 0, 0, 5, 0],\n",
       "  [0, 8, 9, 7, 0, 0, 0, 0, 0],\n",
       "  [5, 0, 2, 0, 0, 0, 1, 9, 0]]]"
      ]
     },
     "execution_count": 58,
     "metadata": {},
     "output_type": "execute_result"
    }
   ],
   "source": [
    "sudokus[:3]"
   ]
  },
  {
   "cell_type": "markdown",
   "id": "dba9c42a",
   "metadata": {},
   "source": [
    "We can also use list comprehension to solve all the puzzles."
   ]
  },
  {
   "cell_type": "code",
   "execution_count": 62,
   "id": "1f68a5fb",
   "metadata": {},
   "outputs": [
    {
     "name": "stdout",
     "output_type": "stream",
     "text": [
      "CPU times: total: 7 s\n",
      "Wall time: 7.37 s\n"
     ]
    }
   ],
   "source": [
    "%%time\n",
    "solved_sudokus = [solve_sudoku(sudoku) for sudoku in sudokus]"
   ]
  },
  {
   "cell_type": "code",
   "execution_count": null,
   "id": "ff891578",
   "metadata": {},
   "outputs": [],
   "source": []
  },
  {
   "cell_type": "markdown",
   "id": "fed5cf79",
   "metadata": {},
   "source": [
    "We'll write a function write_results which writes the solved sudokus to a file."
   ]
  },
  {
   "cell_type": "code",
   "execution_count": 63,
   "id": "a2e3c4a7",
   "metadata": {},
   "outputs": [],
   "source": [
    "def write_results(solved_sudokus, output_file):\n",
    "    \"\"\"\n",
    "    Write solved Sudoku grids to a file.\n",
    "\n",
    "    Args:\n",
    "    - solved_sudokus (list of lists): List of solved Sudoku grids (2D lists).\n",
    "    - output_file (str): File path to write the results.\n",
    "\n",
    "    Returns:\n",
    "    - None\n",
    "    \"\"\"\n",
    "    try:\n",
    "        # Open the file in write mode\n",
    "        with open(output_file, 'w') as file:\n",
    "            # Write each solved Sudoku grid to the file\n",
    "            for sudoku_grid in solved_sudokus:\n",
    "                # Convert each row to a string and join them with commas\n",
    "                row_strings = [','.join(map(str, row)) for row in sudoku_grid]\n",
    "                # Write the joined row strings to the file\n",
    "                file.write('\\n'.join(row_strings) + '\\n\\n')\n",
    "        \n",
    "        print(f'Solved Sudokus written to {output_file} successfully.')\n",
    "\n",
    "    except Exception as e:\n",
    "        print(f'Error writing results to {output_file}: {e}')\n"
   ]
  },
  {
   "cell_type": "code",
   "execution_count": 64,
   "id": "1a68dbcd",
   "metadata": {},
   "outputs": [
    {
     "name": "stdout",
     "output_type": "stream",
     "text": [
      "Solved Sudokus written to sudokus_solved.csv successfully.\n"
     ]
    }
   ],
   "source": [
    "write_results(solved_sudokus, 'sudokus_solved.csv')"
   ]
  },
  {
   "cell_type": "markdown",
   "id": "66988ff7",
   "metadata": {},
   "source": [
    "Let's view the file to ensure that it was written properly."
   ]
  },
  {
   "cell_type": "code",
   "execution_count": 66,
   "id": "c81d423f",
   "metadata": {},
   "outputs": [
    {
     "data": {
      "text/plain": [
       "['8,6,4,3,7,1,2,5,9',\n",
       " '3,2,5,8,4,9,7,6,1',\n",
       " '9,7,1,2,6,5,8,4,3',\n",
       " '4,3,6,1,9,2,5,8,7',\n",
       " '1,9,8,6,5,7,4,3,2']"
      ]
     },
     "execution_count": 66,
     "metadata": {},
     "output_type": "execute_result"
    }
   ],
   "source": [
    "with open('sudokus_solved.csv', 'r') as f:\n",
    "    lines2 = [l.strip() for l in f.readlines()]\n",
    "    \n",
    "lines2[:5]"
   ]
  },
  {
   "cell_type": "code",
   "execution_count": null,
   "id": "f64faf14",
   "metadata": {},
   "outputs": [],
   "source": []
  }
 ],
 "metadata": {
  "kernelspec": {
   "display_name": "Python 3 (ipykernel)",
   "language": "python",
   "name": "python3"
  },
  "language_info": {
   "codemirror_mode": {
    "name": "ipython",
    "version": 3
   },
   "file_extension": ".py",
   "mimetype": "text/x-python",
   "name": "python",
   "nbconvert_exporter": "python",
   "pygments_lexer": "ipython3",
   "version": "3.11.5"
  }
 },
 "nbformat": 4,
 "nbformat_minor": 5
}
